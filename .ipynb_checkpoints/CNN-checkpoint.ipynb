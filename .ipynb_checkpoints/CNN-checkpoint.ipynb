{
 "cells": [
  {
   "cell_type": "code",
   "execution_count": null,
   "metadata": {},
   "outputs": [],
   "source": [
    "import matplotlib.pyplot as plt\n",
    "import numpy as np\n",
    "import cv2\n",
    "import os\n",
    "import pydicom\n",
    "import tensorflow as tf"
   ]
  },
  {
   "cell_type": "code",
   "execution_count": null,
   "metadata": {},
   "outputs": [],
   "source": [
    "from keras.preprocessing.image import ImageDataGenerator\n",
    "from keras.models import Sequential, Model\n",
    "from keras.optimizers import RMSprop\n",
    "from keras.layers import Activation, Dropout, Flatten, Dense, GlobalMaxPooling2D, Conv2D, MaxPooling2D\n",
    "from keras.callbacks import CSVLogger\n",
    "from livelossplot.keras import PlotLossesCallback"
   ]
  },
  {
   "cell_type": "code",
   "execution_count": null,
   "metadata": {},
   "outputs": [],
   "source": [
    "def load_images_from_folder(folder):\n",
    "    images = []\n",
    "    for i in range(1,601):\n",
    "        filename = \"Mask (\"+str(i)+\").tif\"\n",
    "        img = cv2.imread(os.path.join(folder,filename))\n",
    "        if img is not None:\n",
    "            images.append(img)\n",
    "    return images"
   ]
  },
  {
   "cell_type": "code",
   "execution_count": null,
   "metadata": {},
   "outputs": [],
   "source": [
    "masks = load_images_from_folder(\"mask\")"
   ]
  },
  {
   "cell_type": "code",
   "execution_count": null,
   "metadata": {},
   "outputs": [],
   "source": [
    "def load_dicom_images_from_folder(folder):\n",
    "    images = []\n",
    "    for i in range(1,601):\n",
    "        filename = \"Image (\"+str(i)+\").dcm\"\n",
    "        data = pydicom.dcmread(os.path.join(folder,filename))\n",
    "        img = data.pixel_array\n",
    "        if img is not None:\n",
    "            images.append(img)\n",
    "    return images"
   ]
  },
  {
   "cell_type": "code",
   "execution_count": null,
   "metadata": {},
   "outputs": [],
   "source": [
    "images = load_dicom_images_from_folder(\"images\")"
   ]
  },
  {
   "cell_type": "code",
   "execution_count": null,
   "metadata": {},
   "outputs": [],
   "source": [
    "plt.imshow(images[179], cmap=plt.cm.bone)\n",
    "plt.show()"
   ]
  },
  {
   "cell_type": "code",
   "execution_count": null,
   "metadata": {},
   "outputs": [],
   "source": [
    "maskg = []\n",
    "for i in range(600):    \n",
    "    maskg.append(cv2.cvtColor(masks[i], cv2.COLOR_BGR2GRAY))"
   ]
  },
  {
   "cell_type": "code",
   "execution_count": null,
   "metadata": {},
   "outputs": [],
   "source": [
    "idx = []\n",
    "count = 0\n",
    "for i in range(600):\n",
    "    if(images[i].shape != maskg[i].shape):\n",
    "        idx.append(i)\n",
    "        count+=1\n",
    "print(idx,count)"
   ]
  },
  {
   "cell_type": "code",
   "execution_count": null,
   "metadata": {},
   "outputs": [],
   "source": [
    "ildimg = []\n",
    "for i in range(600): \n",
    "    if i not in idx:\n",
    "        ildimg.append(np.multiply(images[i],maskg[i]))"
   ]
  },
  {
   "cell_type": "code",
   "execution_count": null,
   "metadata": {},
   "outputs": [],
   "source": [
    "def crop(img, tol=0):\n",
    "    mask = img>tol\n",
    "    m,n = img.shape\n",
    "    mask0,mask1 = mask.any(0),mask.any(1)\n",
    "    col_start,col_end = mask0.argmax(), n-mask0[::-1].argmax()\n",
    "    row_start,row_end = mask1.argmax(),m-mask1[::-1].argmax()\n",
    "    cropped = img[row_start:row_end,col_start:col_end]\n",
    "    #final = img.reshape(cropped,(512,512))\n",
    "    return cropped"
   ]
  },
  {
   "cell_type": "code",
   "execution_count": null,
   "metadata": {},
   "outputs": [],
   "source": [
    "croppi = []\n",
    "for i in range (600):\n",
    "    #print(i)\n",
    "    a = crop(ildimg[i])\n",
    "    croppi.append(a)\n",
    "    \n",
    "croppi = np.asarray(croppi)"
   ]
  },
  {
   "cell_type": "code",
   "execution_count": null,
   "metadata": {},
   "outputs": [],
   "source": [
    "final = []\n",
    "for i in range(600):\n",
    "    croppi[i] = np.asarray(croppi[i])\n",
    "    final.append(cv2.resize(croppi[i],(256,256),interpolation=cv2.INTER_AREA))"
   ]
  },
  {
   "cell_type": "code",
   "execution_count": null,
   "metadata": {},
   "outputs": [],
   "source": [
    "final = np.asarray(final)\n",
    "final.shape"
   ]
  },
  {
   "cell_type": "code",
   "execution_count": null,
   "metadata": {},
   "outputs": [],
   "source": [
    "target = []\n",
    "for i in range(6):\n",
    "    for j in range(i*100,(i+1)*100):\n",
    "        target.append(i)\n",
    "target = np.asarray(target)"
   ]
  },
  {
   "cell_type": "code",
   "execution_count": null,
   "metadata": {},
   "outputs": [],
   "source": [
    "from sklearn.model_selection import train_test_split\n",
    "xtrain, xtest, ytrain, ytest = train_test_split(final, target, test_size=0.2, random_state=10)\n",
    "xtrain = np.asarray(xtrain)\n",
    "ytrain = np.asarray(ytrain)\n",
    "xtest = np.asarray(xtest)\n",
    "ytest = np.asarray(ytest)"
   ]
  },
  {
   "cell_type": "markdown",
   "metadata": {},
   "source": [
    "xtrain = xtrain.reshape(xtrain.shape[0], 256, 256,1)\n",
    "xtest = xtest.reshape(xtest.shape[0], 256, 256,1)"
   ]
  },
  {
   "cell_type": "markdown",
   "metadata": {},
   "source": [
    "xtrain = xtrain.astype('float32')\n",
    "xtest = xtest.astype('float32')\n",
    "xtrain /= 255\n",
    "xtest /= 255"
   ]
  },
  {
   "cell_type": "markdown",
   "metadata": {},
   "source": [
    "from keras.utils import np_utils\n",
    "ytrain = np_utils.to_categorical(ytrain, 6)\n",
    "ytest = np_utils.to_categorical(ytest, 6)\n",
    "ytrain.shape"
   ]
  },
  {
   "cell_type": "markdown",
   "metadata": {},
   "source": [
    "classifier = Sequential()"
   ]
  },
  {
   "cell_type": "markdown",
   "metadata": {},
   "source": [
    "classifier.add(Conv2D(filters = 56,kernel_size = (3,3), activation = 'relu', input_shape = (256,256,1)))\n",
    "classifier.add(MaxPooling2D(pool_size = (2,2)))\n",
    "\n",
    "classifier.add(Conv2D(32,(3,3),activation = 'relu'))\n",
    "classifier.add(MaxPooling2D(pool_size = (2,2)))\n",
    "\n",
    "classifier.add(Flatten())\n",
    "\n",
    "classifier.add(Dense(units = 64, activation = 'relu'))\n",
    "\n",
    "classifier.add(Dense(units = 6 , activation = 'softmax'))"
   ]
  },
  {
   "cell_type": "markdown",
   "metadata": {},
   "source": [
    "classifier.compile(optimizer = 'adam', loss = 'categorical_crossentropy', metrics = ['categorical_accuracy','accuracy'])"
   ]
  },
  {
   "cell_type": "markdown",
   "metadata": {},
   "source": [
    "classifier.summary()"
   ]
  },
  {
   "cell_type": "markdown",
   "metadata": {},
   "source": [
    "classifier.fit(xtrain,ytrain, epochs = 1, steps_per_epoch = 3)"
   ]
  },
  {
   "cell_type": "code",
   "execution_count": null,
   "metadata": {},
   "outputs": [],
   "source": [
    "img_rows, img_cols = 256, 256\n",
    "input_shape = (img_rows, img_cols, 1)\n",
    "\n",
    "# Prepare the training images\n",
    "xtrain = xtrain.reshape(xtrain.shape[0], img_rows, img_cols, 1)\n",
    "xtrain = xtrain.astype('float32')\n",
    "xtrain /= 255\n",
    "\n",
    "# Prepare the test images\n",
    "xtest = xtest.reshape(xtest.shape[0], img_rows, img_cols, 1)\n",
    "xtest = xtest.astype('float32')\n",
    "xtest /= 255"
   ]
  },
  {
   "cell_type": "code",
   "execution_count": null,
   "metadata": {},
   "outputs": [],
   "source": [
    "from keras.losses import categorical_crossentropy\n",
    "from keras.optimizers import Adam\n",
    "\n",
    "cnn1 = Sequential()\n",
    "cnn1.add(Conv2D(32, kernel_size=(3, 3), activation='relu', input_shape=input_shape))\n",
    "cnn1.add(MaxPooling2D(pool_size=(2, 2)))\n",
    "cnn1.add(Dropout(0.2))\n",
    "\n",
    "cnn1.add(Flatten())\n",
    "\n",
    "cnn1.add(Dense(128, activation='relu'))\n",
    "cnn1.add(Dense(6, activation='softmax'))\n",
    "\n",
    "cnn1.compile(loss='sparse_categorical_crossentropy',\n",
    "              optimizer='adam',\n",
    "              metrics=['accuracy'])"
   ]
  },
  {
   "cell_type": "code",
   "execution_count": null,
   "metadata": {},
   "outputs": [],
   "source": [
    "cnn1.summary()"
   ]
  },
  {
   "cell_type": "code",
   "execution_count": null,
   "metadata": {},
   "outputs": [],
   "source": [
    "cnn1.fit(xtrain,ytrain, epochs = 10, steps_per_epoch = 3)"
   ]
  },
  {
   "cell_type": "code",
   "execution_count": null,
   "metadata": {},
   "outputs": [],
   "source": [
    "xtrain.shape"
   ]
  },
  {
   "cell_type": "code",
   "execution_count": null,
   "metadata": {},
   "outputs": [],
   "source": []
  }
 ],
 "metadata": {
  "kernelspec": {
   "display_name": "py_37_env",
   "language": "python",
   "name": "py_37_env"
  },
  "language_info": {
   "codemirror_mode": {
    "name": "ipython",
    "version": 2
   },
   "file_extension": ".py",
   "mimetype": "text/x-python",
   "name": "python",
   "nbconvert_exporter": "python",
   "pygments_lexer": "ipython2",
   "version": "2.7.16"
  }
 },
 "nbformat": 4,
 "nbformat_minor": 4
}
