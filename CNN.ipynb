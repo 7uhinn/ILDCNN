{
 "cells": [
  {
   "cell_type": "code",
   "execution_count": 1,
   "metadata": {},
   "outputs": [],
   "source": [
    "import matplotlib.pyplot as plt\n",
    "import numpy as np\n",
    "import cv2\n",
    "import os\n",
    "import pydicom\n",
    "import tensorflow as tf"
   ]
  },
  {
   "cell_type": "code",
   "execution_count": 2,
   "metadata": {},
   "outputs": [
    {
     "name": "stderr",
     "output_type": "stream",
     "text": [
      "Using TensorFlow backend.\n"
     ]
    }
   ],
   "source": [
    "from keras.preprocessing.image import ImageDataGenerator\n",
    "from keras.models import Sequential, Model\n",
    "from keras.optimizers import RMSprop\n",
    "from keras.layers import Activation, Dropout, Flatten, Dense, GlobalMaxPooling2D, Conv2D, MaxPooling2D\n",
    "from keras.callbacks import CSVLogger\n",
    "from livelossplot.keras import PlotLossesCallback"
   ]
  },
  {
   "cell_type": "code",
   "execution_count": 3,
   "metadata": {},
   "outputs": [],
   "source": [
    "def load_images_from_folder(folder):\n",
    "    images = []\n",
    "    for i in range(1,601):\n",
    "        filename = \"Mask (\"+str(i)+\").tif\"\n",
    "        img = cv2.imread(os.path.join(folder,filename))\n",
    "        if img is not None:\n",
    "            images.append(img)\n",
    "    return images"
   ]
  },
  {
   "cell_type": "code",
   "execution_count": 4,
   "metadata": {},
   "outputs": [],
   "source": [
    "masks = load_images_from_folder(\"mask\")"
   ]
  },
  {
   "cell_type": "code",
   "execution_count": 5,
   "metadata": {},
   "outputs": [],
   "source": [
    "def load_dicom_images_from_folder(folder):\n",
    "    images = []\n",
    "    for i in range(1,601):\n",
    "        filename = \"Image (\"+str(i)+\").dcm\"\n",
    "        data = pydicom.dcmread(os.path.join(folder,filename))\n",
    "        img = data.pixel_array\n",
    "        if img is not None:\n",
    "            images.append(img)\n",
    "    return images"
   ]
  },
  {
   "cell_type": "code",
   "execution_count": 6,
   "metadata": {},
   "outputs": [],
   "source": [
    "images = load_dicom_images_from_folder(\"images\")"
   ]
  },
  {
   "cell_type": "code",
   "execution_count": null,
   "metadata": {},
   "outputs": [],
   "source": [
    "plt.imshow(images[179], cmap=plt.cm.bone)\n",
    "plt.show()"
   ]
  },
  {
   "cell_type": "code",
   "execution_count": 7,
   "metadata": {},
   "outputs": [],
   "source": [
    "maskg = []\n",
    "for i in range(600):    \n",
    "    maskg.append(cv2.cvtColor(masks[i], cv2.COLOR_BGR2GRAY))"
   ]
  },
  {
   "cell_type": "code",
   "execution_count": 8,
   "metadata": {},
   "outputs": [
    {
     "name": "stdout",
     "output_type": "stream",
     "text": [
      "([], 0)\n"
     ]
    }
   ],
   "source": [
    "idx = []\n",
    "count = 0\n",
    "for i in range(600):\n",
    "    if(images[i].shape != maskg[i].shape):\n",
    "        idx.append(i)\n",
    "        count+=1\n",
    "print(idx,count)"
   ]
  },
  {
   "cell_type": "code",
   "execution_count": 9,
   "metadata": {},
   "outputs": [],
   "source": [
    "ildimg = []\n",
    "for i in range(600): \n",
    "    if i not in idx:\n",
    "        ildimg.append(np.multiply(images[i],maskg[i]))"
   ]
  },
  {
   "cell_type": "code",
   "execution_count": 10,
   "metadata": {},
   "outputs": [],
   "source": [
    "def crop(img, tol=0):\n",
    "    mask = img>tol\n",
    "    m,n = img.shape\n",
    "    mask0,mask1 = mask.any(0),mask.any(1)\n",
    "    col_start,col_end = mask0.argmax(), n-mask0[::-1].argmax()\n",
    "    row_start,row_end = mask1.argmax(),m-mask1[::-1].argmax()\n",
    "    cropped = img[row_start:row_end,col_start:col_end]\n",
    "    #final = img.reshape(cropped,(512,512))\n",
    "    return cropped"
   ]
  },
  {
   "cell_type": "code",
   "execution_count": 11,
   "metadata": {},
   "outputs": [],
   "source": [
    "croppi = []\n",
    "for i in range (600):\n",
    "    #print(i)\n",
    "    a = crop(ildimg[i])\n",
    "    croppi.append(a)\n",
    "    \n",
    "croppi = np.asarray(croppi)"
   ]
  },
  {
   "cell_type": "code",
   "execution_count": 12,
   "metadata": {},
   "outputs": [],
   "source": [
    "final = []\n",
    "for i in range(600):\n",
    "    croppi[i] = np.asarray(croppi[i])\n",
    "    final.append(cv2.resize(croppi[i],(28,28),interpolation=cv2.INTER_AREA))"
   ]
  },
  {
   "cell_type": "code",
   "execution_count": 13,
   "metadata": {},
   "outputs": [
    {
     "data": {
      "text/plain": [
       "(600, 28, 28)"
      ]
     },
     "execution_count": 13,
     "metadata": {},
     "output_type": "execute_result"
    }
   ],
   "source": [
    "final = np.asarray(final)\n",
    "final.shape"
   ]
  },
  {
   "cell_type": "code",
   "execution_count": 14,
   "metadata": {},
   "outputs": [],
   "source": [
    "target = []\n",
    "for i in range(6):\n",
    "    for j in range(i*100,(i+1)*100):\n",
    "        target.append(i)\n",
    "target = np.asarray(target)"
   ]
  },
  {
   "cell_type": "code",
   "execution_count": 15,
   "metadata": {},
   "outputs": [],
   "source": [
    "from sklearn.model_selection import train_test_split\n",
    "xtrain, xtest, ytrain, ytest = train_test_split(final, target, test_size=0.2, random_state=10)\n",
    "xtrain = np.asarray(xtrain)\n",
    "ytrain = np.asarray(ytrain)\n",
    "xtest = np.asarray(xtest)\n",
    "ytest = np.asarray(ytest)"
   ]
  },
  {
   "cell_type": "markdown",
   "metadata": {},
   "source": [
    "xtrain = xtrain.reshape(xtrain.shape[0], 256, 256,1)\n",
    "xtest = xtest.reshape(xtest.shape[0], 256, 256,1)"
   ]
  },
  {
   "cell_type": "markdown",
   "metadata": {},
   "source": [
    "xtrain = xtrain.astype('float32')\n",
    "xtest = xtest.astype('float32')\n",
    "xtrain /= 255\n",
    "xtest /= 255"
   ]
  },
  {
   "cell_type": "markdown",
   "metadata": {},
   "source": [
    "from keras.utils import np_utils\n",
    "ytrain = np_utils.to_categorical(ytrain, 6)\n",
    "ytest = np_utils.to_categorical(ytest, 6)\n",
    "ytrain.shape"
   ]
  },
  {
   "cell_type": "markdown",
   "metadata": {},
   "source": [
    "classifier = Sequential()"
   ]
  },
  {
   "cell_type": "markdown",
   "metadata": {},
   "source": [
    "classifier.add(Conv2D(filters = 56,kernel_size = (3,3), activation = 'relu', input_shape = (256,256,1)))\n",
    "classifier.add(MaxPooling2D(pool_size = (2,2)))\n",
    "\n",
    "classifier.add(Conv2D(32,(3,3),activation = 'relu'))\n",
    "classifier.add(MaxPooling2D(pool_size = (2,2)))\n",
    "\n",
    "classifier.add(Flatten())\n",
    "\n",
    "classifier.add(Dense(units = 64, activation = 'relu'))\n",
    "\n",
    "classifier.add(Dense(units = 6 , activation = 'softmax'))"
   ]
  },
  {
   "cell_type": "markdown",
   "metadata": {},
   "source": [
    "classifier.compile(optimizer = 'adam', loss = 'categorical_crossentropy', metrics = ['categorical_accuracy','accuracy'])"
   ]
  },
  {
   "cell_type": "markdown",
   "metadata": {},
   "source": [
    "classifier.summary()"
   ]
  },
  {
   "cell_type": "markdown",
   "metadata": {},
   "source": [
    "classifier.fit(xtrain,ytrain, epochs = 1, steps_per_epoch = 3)"
   ]
  },
  {
   "cell_type": "code",
   "execution_count": 16,
   "metadata": {},
   "outputs": [],
   "source": [
    "from keras.utils import to_categorical\n",
    "\n",
    "img_rows, img_cols = 28, 28\n",
    "input_shape = (img_rows, img_cols, 1)\n",
    "\n",
    "# Prepare the training images\n",
    "xtrain = xtrain.reshape(xtrain.shape[0], img_rows, img_cols, 1)\n",
    "xtrain = xtrain.astype('float32')\n",
    "xtrain /= 255\n",
    "\n",
    "# Prepare the test images\n",
    "xtest = xtest.reshape(xtest.shape[0], img_rows, img_cols, 1)\n",
    "xtest = xtest.astype('float32')\n",
    "xtest /= 255\n"
   ]
  },
  {
   "cell_type": "code",
   "execution_count": 17,
   "metadata": {},
   "outputs": [],
   "source": [
    "from keras.losses import categorical_crossentropy\n",
    "from keras.optimizers import Adam\n",
    "\n",
    "cnn1 = Sequential()\n",
    "cnn1.add(Conv2D(32, kernel_size=(3, 3), activation='relu', input_shape=input_shape))\n",
    "cnn1.add(MaxPooling2D(pool_size=(2, 2)))\n",
    "cnn1.add(Dropout(0.2))\n",
    "\n",
    "cnn1.add(Flatten())\n",
    "\n",
    "cnn1.add(Dense(128, activation='relu'))\n",
    "cnn1.add(Dense(6, activation='softmax'))\n",
    "\n",
    "cnn1.compile(loss='sparse_categorical_crossentropy',\n",
    "              optimizer='adam',\n",
    "              metrics=['accuracy'])"
   ]
  },
  {
   "cell_type": "code",
   "execution_count": 18,
   "metadata": {},
   "outputs": [
    {
     "name": "stdout",
     "output_type": "stream",
     "text": [
      "Model: \"sequential_1\"\n",
      "_________________________________________________________________\n",
      "Layer (type)                 Output Shape              Param #   \n",
      "=================================================================\n",
      "conv2d_1 (Conv2D)            (None, 26, 26, 32)        320       \n",
      "_________________________________________________________________\n",
      "max_pooling2d_1 (MaxPooling2 (None, 13, 13, 32)        0         \n",
      "_________________________________________________________________\n",
      "dropout_1 (Dropout)          (None, 13, 13, 32)        0         \n",
      "_________________________________________________________________\n",
      "flatten_1 (Flatten)          (None, 5408)              0         \n",
      "_________________________________________________________________\n",
      "dense_1 (Dense)              (None, 128)               692352    \n",
      "_________________________________________________________________\n",
      "dense_2 (Dense)              (None, 6)                 774       \n",
      "=================================================================\n",
      "Total params: 693,446\n",
      "Trainable params: 693,446\n",
      "Non-trainable params: 0\n",
      "_________________________________________________________________\n"
     ]
    }
   ],
   "source": [
    "cnn1.summary()"
   ]
  },
  {
   "cell_type": "code",
   "execution_count": 19,
   "metadata": {},
   "outputs": [
    {
     "name": "stdout",
     "output_type": "stream",
     "text": [
      "Epoch 1/100\n",
      "25/25 [==============================] - 5s 197ms/step - loss: 19.9422 - accuracy: 0.2455\n",
      "Epoch 2/100\n",
      "25/25 [==============================] - 6s 235ms/step - loss: 1.5840 - accuracy: 0.2783\n",
      "Epoch 3/100\n",
      "25/25 [==============================] - 5s 181ms/step - loss: 1.4475 - accuracy: 0.3394\n",
      "Epoch 4/100\n",
      "25/25 [==============================] - 4s 169ms/step - loss: 1.3148 - accuracy: 0.3848\n",
      "Epoch 5/100\n",
      "25/25 [==============================] - 4s 176ms/step - loss: 1.2228 - accuracy: 0.4388\n",
      "Epoch 6/100\n",
      "25/25 [==============================] - 4s 163ms/step - loss: 1.0683 - accuracy: 0.5358\n",
      "Epoch 7/100\n",
      "25/25 [==============================] - 4s 167ms/step - loss: 0.9333 - accuracy: 0.6020\n",
      "Epoch 8/100\n",
      "25/25 [==============================] - 4s 170ms/step - loss: 0.8273 - accuracy: 0.6494\n",
      "Epoch 9/100\n",
      "25/25 [==============================] - 4s 179ms/step - loss: 0.7092 - accuracy: 0.7108\n",
      "Epoch 10/100\n",
      "25/25 [==============================] - 4s 173ms/step - loss: 0.5895 - accuracy: 0.7692\n",
      "Epoch 11/100\n",
      "25/25 [==============================] - 4s 169ms/step - loss: 0.4885 - accuracy: 0.8196\n",
      "Epoch 12/100\n",
      "25/25 [==============================] - 4s 170ms/step - loss: 0.3895 - accuracy: 0.8527\n",
      "Epoch 13/100\n",
      "25/25 [==============================] - 4s 167ms/step - loss: 0.3030 - accuracy: 0.8801\n",
      "Epoch 14/100\n",
      "25/25 [==============================] - 4s 173ms/step - loss: 0.2347 - accuracy: 0.9062\n",
      "Epoch 15/100\n",
      "25/25 [==============================] - 4s 166ms/step - loss: 0.1876 - accuracy: 0.9218\n",
      "Epoch 16/100\n",
      "25/25 [==============================] - 4s 169ms/step - loss: 0.1587 - accuracy: 0.9312\n",
      "Epoch 17/100\n",
      "25/25 [==============================] - 4s 177ms/step - loss: 0.1384 - accuracy: 0.9401\n",
      "Epoch 18/100\n",
      "25/25 [==============================] - 4s 168ms/step - loss: 0.1146 - accuracy: 0.9510\n",
      "Epoch 19/100\n",
      "25/25 [==============================] - 4s 168ms/step - loss: 0.0971 - accuracy: 0.9558\n",
      "Epoch 20/100\n",
      "25/25 [==============================] - 4s 167ms/step - loss: 0.0870 - accuracy: 0.9578\n",
      "Epoch 21/100\n",
      "25/25 [==============================] - 4s 168ms/step - loss: 0.0807 - accuracy: 0.9611\n",
      "Epoch 22/100\n",
      "25/25 [==============================] - 5s 196ms/step - loss: 0.0759 - accuracy: 0.9625\n",
      "Epoch 23/100\n",
      "25/25 [==============================] - 6s 224ms/step - loss: 0.0704 - accuracy: 0.9636\n",
      "Epoch 24/100\n",
      "25/25 [==============================] - 5s 196ms/step - loss: 0.0689 - accuracy: 0.9646\n",
      "Epoch 25/100\n",
      "25/25 [==============================] - 4s 166ms/step - loss: 0.0640 - accuracy: 0.9661\n",
      "Epoch 26/100\n",
      "25/25 [==============================] - 4s 167ms/step - loss: 0.0617 - accuracy: 0.9664\n",
      "Epoch 27/100\n",
      "25/25 [==============================] - 4s 164ms/step - loss: 0.0603 - accuracy: 0.9663\n",
      "Epoch 28/100\n",
      "25/25 [==============================] - 4s 166ms/step - loss: 0.0570 - accuracy: 0.9677\n",
      "Epoch 29/100\n",
      "25/25 [==============================] - 4s 163ms/step - loss: 0.0540 - accuracy: 0.9685\n",
      "Epoch 30/100\n",
      "25/25 [==============================] - 4s 166ms/step - loss: 0.0534 - accuracy: 0.9696\n",
      "Epoch 31/100\n",
      "25/25 [==============================] - 4s 164ms/step - loss: 0.0479 - accuracy: 0.9766\n",
      "Epoch 32/100\n",
      "25/25 [==============================] - 4s 165ms/step - loss: 0.0452 - accuracy: 0.9814\n",
      "Epoch 33/100\n",
      "25/25 [==============================] - 4s 164ms/step - loss: 0.0445 - accuracy: 0.9814\n",
      "Epoch 34/100\n",
      "25/25 [==============================] - 4s 164ms/step - loss: 0.0435 - accuracy: 0.9820\n",
      "Epoch 35/100\n",
      "25/25 [==============================] - 4s 167ms/step - loss: 0.0416 - accuracy: 0.9820\n",
      "Epoch 36/100\n",
      "25/25 [==============================] - 4s 170ms/step - loss: 0.0406 - accuracy: 0.9822\n",
      "Epoch 37/100\n",
      "25/25 [==============================] - 4s 173ms/step - loss: 0.0374 - accuracy: 0.9826\n",
      "Epoch 38/100\n",
      "25/25 [==============================] - 6s 253ms/step - loss: 0.0355 - accuracy: 0.9834\n",
      "Epoch 39/100\n",
      "25/25 [==============================] - 5s 185ms/step - loss: 0.0328 - accuracy: 0.9843\n",
      "Epoch 40/100\n",
      "25/25 [==============================] - 4s 175ms/step - loss: 0.0307 - accuracy: 0.9847\n",
      "Epoch 41/100\n",
      "25/25 [==============================] - 5s 184ms/step - loss: 0.0292 - accuracy: 0.9849\n",
      "Epoch 42/100\n",
      "25/25 [==============================] - 4s 168ms/step - loss: 0.0293 - accuracy: 0.9847\n",
      "Epoch 43/100\n",
      "25/25 [==============================] - 4s 173ms/step - loss: 0.0291 - accuracy: 0.9877\n",
      "Epoch 44/100\n",
      "25/25 [==============================] - 4s 168ms/step - loss: 0.0273 - accuracy: 0.9905\n",
      "Epoch 45/100\n",
      "25/25 [==============================] - 4s 174ms/step - loss: 0.0265 - accuracy: 0.9905\n",
      "Epoch 46/100\n",
      "25/25 [==============================] - 4s 167ms/step - loss: 0.0277 - accuracy: 0.9911\n",
      "Epoch 47/100\n",
      "25/25 [==============================] - 4s 179ms/step - loss: 0.0273 - accuracy: 0.9914\n",
      "Epoch 48/100\n",
      "25/25 [==============================] - 4s 177ms/step - loss: 0.0315 - accuracy: 0.9893\n",
      "Epoch 49/100\n",
      "25/25 [==============================] - 4s 175ms/step - loss: 0.0258 - accuracy: 0.9914\n",
      "Epoch 50/100\n",
      "25/25 [==============================] - 4s 170ms/step - loss: 0.0253 - accuracy: 0.9916\n",
      "Epoch 51/100\n",
      "25/25 [==============================] - 4s 169ms/step - loss: 0.0243 - accuracy: 0.9919\n",
      "Epoch 52/100\n",
      "25/25 [==============================] - 4s 175ms/step - loss: 0.0238 - accuracy: 0.9908\n",
      "Epoch 53/100\n",
      "25/25 [==============================] - 4s 168ms/step - loss: 0.0238 - accuracy: 0.9918\n",
      "Epoch 54/100\n",
      "25/25 [==============================] - 4s 167ms/step - loss: 0.0227 - accuracy: 0.9923\n",
      "Epoch 55/100\n",
      "25/25 [==============================] - 4s 170ms/step - loss: 0.0219 - accuracy: 0.9912\n",
      "Epoch 56/100\n",
      "25/25 [==============================] - 4s 168ms/step - loss: 0.0220 - accuracy: 0.9921\n",
      "Epoch 57/100\n",
      "25/25 [==============================] - 5s 181ms/step - loss: 0.0218 - accuracy: 0.9918\n",
      "Epoch 58/100\n",
      "25/25 [==============================] - 4s 168ms/step - loss: 0.0218 - accuracy: 0.9913\n",
      "Epoch 59/100\n",
      "25/25 [==============================] - 4s 168ms/step - loss: 0.0229 - accuracy: 0.9902\n",
      "Epoch 60/100\n",
      "25/25 [==============================] - 4s 170ms/step - loss: 0.0320 - accuracy: 0.9883\n",
      "Epoch 61/100\n",
      "25/25 [==============================] - 4s 169ms/step - loss: 0.0267 - accuracy: 0.9895\n",
      "Epoch 62/100\n",
      "25/25 [==============================] - 5s 181ms/step - loss: 0.0193 - accuracy: 0.9906\n",
      "Epoch 63/100\n",
      "25/25 [==============================] - 4s 168ms/step - loss: 0.0179 - accuracy: 0.9903\n",
      "Epoch 64/100\n",
      "25/25 [==============================] - 4s 179ms/step - loss: 0.0149 - accuracy: 0.9923\n",
      "Epoch 65/100\n",
      "25/25 [==============================] - 4s 168ms/step - loss: 0.0132 - accuracy: 0.9922\n",
      "Epoch 66/100\n",
      "25/25 [==============================] - 4s 170ms/step - loss: 0.0121 - accuracy: 0.9931\n",
      "Epoch 67/100\n",
      "25/25 [==============================] - 5s 186ms/step - loss: 0.0125 - accuracy: 0.9940\n",
      "Epoch 68/100\n",
      "25/25 [==============================] - 4s 167ms/step - loss: 0.0107 - accuracy: 0.9952\n",
      "Epoch 69/100\n",
      "25/25 [==============================] - 5s 181ms/step - loss: 0.0098 - accuracy: 0.9954\n",
      "Epoch 70/100\n",
      "25/25 [==============================] - 4s 171ms/step - loss: 0.0105 - accuracy: 0.9953\n",
      "Epoch 71/100\n",
      "25/25 [==============================] - 4s 170ms/step - loss: 0.0076 - accuracy: 0.9974\n",
      "Epoch 72/100\n",
      "25/25 [==============================] - 4s 170ms/step - loss: 0.0073 - accuracy: 0.9974\n",
      "Epoch 73/100\n",
      "25/25 [==============================] - 4s 169ms/step - loss: 0.0060 - accuracy: 0.9977\n",
      "Epoch 74/100\n",
      "25/25 [==============================] - 4s 169ms/step - loss: 0.0051 - accuracy: 0.9979\n",
      "Epoch 75/100\n",
      "25/25 [==============================] - 4s 166ms/step - loss: 0.0037 - accuracy: 0.9983\n",
      "Epoch 76/100\n",
      "25/25 [==============================] - 4s 167ms/step - loss: 0.0028 - accuracy: 0.9997\n",
      "Epoch 77/100\n",
      "25/25 [==============================] - 4s 168ms/step - loss: 0.0018 - accuracy: 0.9999\n",
      "Epoch 78/100\n",
      "25/25 [==============================] - 5s 181ms/step - loss: 0.0014 - accuracy: 0.9999\n",
      "Epoch 79/100\n",
      "25/25 [==============================] - 4s 167ms/step - loss: 0.0012 - accuracy: 0.9998\n",
      "Epoch 80/100\n",
      "25/25 [==============================] - 4s 175ms/step - loss: 0.0018 - accuracy: 0.9996\n",
      "Epoch 81/100\n",
      "25/25 [==============================] - 4s 168ms/step - loss: 0.0013 - accuracy: 0.9998\n",
      "Epoch 82/100\n",
      "25/25 [==============================] - 4s 168ms/step - loss: 0.0012 - accuracy: 0.9999\n",
      "Epoch 83/100\n",
      "25/25 [==============================] - 4s 168ms/step - loss: 8.6682e-04 - accuracy: 1.0000\n",
      "Epoch 84/100\n",
      "25/25 [==============================] - 4s 169ms/step - loss: 8.1140e-04 - accuracy: 1.0000\n",
      "Epoch 85/100\n",
      "25/25 [==============================] - 4s 167ms/step - loss: 0.0013 - accuracy: 0.9998\n",
      "Epoch 86/100\n",
      "25/25 [==============================] - 4s 174ms/step - loss: 0.0016 - accuracy: 0.9997\n",
      "Epoch 87/100\n",
      "25/25 [==============================] - 4s 169ms/step - loss: 0.0017 - accuracy: 0.9997\n",
      "Epoch 88/100\n",
      "25/25 [==============================] - 5s 183ms/step - loss: 0.0014 - accuracy: 0.9998\n",
      "Epoch 89/100\n",
      "25/25 [==============================] - 4s 174ms/step - loss: 9.7373e-04 - accuracy: 0.9998\n",
      "Epoch 90/100\n",
      "25/25 [==============================] - 4s 168ms/step - loss: 4.8469e-04 - accuracy: 1.0000\n",
      "Epoch 91/100\n",
      "25/25 [==============================] - 4s 169ms/step - loss: 9.7005e-04 - accuracy: 0.9998\n",
      "Epoch 92/100\n",
      "25/25 [==============================] - 4s 168ms/step - loss: 0.0011 - accuracy: 0.9998\n",
      "Epoch 93/100\n",
      "25/25 [==============================] - 5s 206ms/step - loss: 0.0013 - accuracy: 0.9996\n",
      "Epoch 94/100\n",
      "25/25 [==============================] - 6s 226ms/step - loss: 0.0031 - accuracy: 0.9994\n",
      "Epoch 95/100\n",
      "25/25 [==============================] - 6s 240ms/step - loss: 0.0052 - accuracy: 0.9988\n",
      "Epoch 96/100\n",
      "25/25 [==============================] - 4s 165ms/step - loss: 0.0020 - accuracy: 0.9998\n",
      "Epoch 97/100\n",
      "25/25 [==============================] - 4s 166ms/step - loss: 0.0011 - accuracy: 0.9998\n",
      "Epoch 98/100\n",
      "25/25 [==============================] - 4s 166ms/step - loss: 3.9565e-04 - accuracy: 1.0000\n",
      "Epoch 99/100\n",
      "25/25 [==============================] - 4s 166ms/step - loss: 4.1997e-04 - accuracy: 0.9999\n",
      "Epoch 100/100\n",
      "25/25 [==============================] - 4s 165ms/step - loss: 2.9314e-04 - accuracy: 1.0000\n"
     ]
    },
    {
     "data": {
      "text/plain": [
       "<keras.callbacks.callbacks.History at 0x1161ed290>"
      ]
     },
     "execution_count": 19,
     "metadata": {},
     "output_type": "execute_result"
    }
   ],
   "source": [
    "cnn1.fit(xtrain,ytrain, epochs = 100, steps_per_epoch = 25)"
   ]
  },
  {
   "cell_type": "code",
   "execution_count": 20,
   "metadata": {},
   "outputs": [
    {
     "data": {
      "text/plain": [
       "(480, 28, 28, 1)"
      ]
     },
     "execution_count": 20,
     "metadata": {},
     "output_type": "execute_result"
    }
   ],
   "source": [
    "xtrain.shape"
   ]
  },
  {
   "cell_type": "code",
   "execution_count": 21,
   "metadata": {},
   "outputs": [
    {
     "name": "stdout",
     "output_type": "stream",
     "text": [
      "('Test loss:', 9.321265602111817)\n",
      "('Test accuracy:', 0.4333333373069763)\n"
     ]
    }
   ],
   "source": [
    "score1 = cnn1.evaluate(xtest, ytest, verbose=0)\n",
    "print('Test loss:', score1[0])\n",
    "print('Test accuracy:', score1[1])"
   ]
  },
  {
   "cell_type": "code",
   "execution_count": null,
   "metadata": {},
   "outputs": [],
   "source": []
  },
  {
   "cell_type": "code",
   "execution_count": null,
   "metadata": {},
   "outputs": [],
   "source": []
  },
  {
   "cell_type": "code",
   "execution_count": null,
   "metadata": {},
   "outputs": [],
   "source": []
  }
 ],
 "metadata": {
  "kernelspec": {
   "display_name": "py_37_env",
   "language": "python",
   "name": "py_37_env"
  },
  "language_info": {
   "codemirror_mode": {
    "name": "ipython",
    "version": 2
   },
   "file_extension": ".py",
   "mimetype": "text/x-python",
   "name": "python",
   "nbconvert_exporter": "python",
   "pygments_lexer": "ipython2",
   "version": "2.7.16"
  }
 },
 "nbformat": 4,
 "nbformat_minor": 4
}
